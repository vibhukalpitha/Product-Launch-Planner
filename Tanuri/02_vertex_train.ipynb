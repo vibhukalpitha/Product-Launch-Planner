{
 "cells": [
  {
   "cell_type": "code",
   "execution_count": 2,
   "id": "bd7b52a3",
   "metadata": {},
   "outputs": [
    {
     "name": "stdout",
     "output_type": "stream",
     "text": [
      "Training complete. Model and encoders saved locally.\n"
     ]
    }
   ],
   "source": [
    "# 02_local_train.py\n",
    "import pandas as pd\n",
    "from sklearn.model_selection import train_test_split\n",
    "from sklearn.ensemble import RandomForestClassifier\n",
    "from sklearn.preprocessing import LabelEncoder\n",
    "import joblib\n",
    "\n",
    "# Load your dataset\n",
    "df = pd.read_csv(\"/Users/tanuridinethra/Downloads/Walmart_customer_final_10000.csv\")\n",
    "\n",
    "# Filter relevant columns\n",
    "cols = ['Customer_ID', 'Brand', 'Category', 'Model', 'Repeat_Customer', 'Discount_Applied']\n",
    "df = df[cols]\n",
    "\n",
    "# Encode categorical features\n",
    "le_brand = LabelEncoder()\n",
    "le_category = LabelEncoder()\n",
    "le_model = LabelEncoder()\n",
    "le_discount = LabelEncoder()\n",
    "le_repeat = LabelEncoder()\n",
    "\n",
    "df['Brand_enc'] = le_brand.fit_transform(df['Brand'])\n",
    "df['Category_enc'] = le_category.fit_transform(df['Category'])\n",
    "df['Model_enc'] = le_model.fit_transform(df['Model'])\n",
    "df['Discount_enc'] = le_discount.fit_transform(df['Discount_Applied'])\n",
    "df['Repeat_enc'] = le_repeat.fit_transform(df['Repeat_Customer'])\n",
    "\n",
    "# Features and target\n",
    "X = df[['Brand_enc', 'Category_enc', 'Model_enc', 'Discount_enc']]\n",
    "y = df['Repeat_enc']\n",
    "\n",
    "# Train-test split\n",
    "X_train, X_test, y_train, y_test = train_test_split(X, y, test_size=0.2, random_state=42)\n",
    "\n",
    "# Train model\n",
    "clf = RandomForestClassifier(n_estimators=100, random_state=42)\n",
    "clf.fit(X_train, y_train)\n",
    "\n",
    "# Save model and encoders\n",
    "joblib.dump(clf, \"repeat_customer_model.pkl\")\n",
    "joblib.dump(le_brand, \"le_brand.pkl\")\n",
    "joblib.dump(le_category, \"le_category.pkl\")\n",
    "joblib.dump(le_model, \"le_model.pkl\")\n",
    "joblib.dump(le_discount, \"le_discount.pkl\")\n",
    "joblib.dump(le_repeat, \"le_repeat.pkl\")\n",
    "\n",
    "print(\"Training complete. Model and encoders saved locally.\")\n"
   ]
  },
  {
   "cell_type": "code",
   "execution_count": null,
   "id": "8df20322",
   "metadata": {},
   "outputs": [],
   "source": []
  }
 ],
 "metadata": {
  "kernelspec": {
   "display_name": "Python 3",
   "language": "python",
   "name": "python3"
  },
  "language_info": {
   "codemirror_mode": {
    "name": "ipython",
    "version": 3
   },
   "file_extension": ".py",
   "mimetype": "text/x-python",
   "name": "python",
   "nbconvert_exporter": "python",
   "pygments_lexer": "ipython3",
   "version": "3.13.5"
  }
 },
 "nbformat": 4,
 "nbformat_minor": 5
}
