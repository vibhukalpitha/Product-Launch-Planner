{
 "cells": [
  {
   "cell_type": "code",
   "execution_count": 2,
   "id": "da5f4fb0",
   "metadata": {},
   "outputs": [
    {
     "name": "stdout",
     "output_type": "stream",
     "text": [
      "Predictions saved to repeat_customer_predictions.csv\n"
     ]
    }
   ],
   "source": [
    "# 03_local_predict.py\n",
    "import pandas as pd\n",
    "import joblib\n",
    "\n",
    "# Load the trained model and encoders\n",
    "clf = joblib.load(\"repeat_customer_model.pkl\")\n",
    "le_brand = joblib.load(\"le_brand.pkl\")\n",
    "le_category = joblib.load(\"le_category.pkl\")\n",
    "le_model = joblib.load(\"le_model.pkl\")\n",
    "le_discount = joblib.load(\"le_discount.pkl\")\n",
    "le_repeat = joblib.load(\"le_repeat.pkl\")\n",
    "\n",
    "# Load new data for prediction\n",
    "df_new = pd.read_csv(\"/Users/tanuridinethra/Downloads/Walmart_customer_final_10000.csv\")  # same columns: Brand, Category, Model, Discount_Applied\n",
    "\n",
    "# Encode categorical columns\n",
    "df_new['Brand_enc'] = le_brand.transform(df_new['Brand'])\n",
    "df_new['Category_enc'] = le_category.transform(df_new['Category'])\n",
    "df_new['Model_enc'] = le_model.transform(df_new['Model'])\n",
    "df_new['Discount_enc'] = le_discount.transform(df_new['Discount_Applied'])\n",
    "\n",
    "# Features for prediction\n",
    "X_new = df_new[['Brand_enc', 'Category_enc', 'Model_enc', 'Discount_enc']]\n",
    "\n",
    "# Predict\n",
    "preds_enc = clf.predict(X_new)\n",
    "df_new['Repeat_Prediction'] = le_repeat.inverse_transform(preds_enc)\n",
    "\n",
    "# Save predictions locally\n",
    "df_new.to_csv(\"repeat_customer_predictions.csv\", index=False)\n",
    "print(\"Predictions saved to repeat_customer_predictions.csv\")\n"
   ]
  }
 ],
 "metadata": {
  "kernelspec": {
   "display_name": "Python 3",
   "language": "python",
   "name": "python3"
  },
  "language_info": {
   "codemirror_mode": {
    "name": "ipython",
    "version": 3
   },
   "file_extension": ".py",
   "mimetype": "text/x-python",
   "name": "python",
   "nbconvert_exporter": "python",
   "pygments_lexer": "ipython3",
   "version": "3.13.5"
  }
 },
 "nbformat": 4,
 "nbformat_minor": 5
}
