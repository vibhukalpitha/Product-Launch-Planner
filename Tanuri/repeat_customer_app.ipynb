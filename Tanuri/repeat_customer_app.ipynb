{
 "cells": [
  {
   "cell_type": "code",
   "execution_count": 1,
   "id": "ee6c45a4",
   "metadata": {},
   "outputs": [],
   "source": [
    "import streamlit as st\n",
    "import pandas as pd"
   ]
  },
  {
   "cell_type": "code",
   "execution_count": 2,
   "id": "43e5cc47",
   "metadata": {},
   "outputs": [
    {
     "name": "stderr",
     "output_type": "stream",
     "text": [
      "2025-09-02 15:29:27.792 WARNING streamlit.runtime.scriptrunner_utils.script_run_context: Thread 'MainThread': missing ScriptRunContext! This warning can be ignored when running in bare mode.\n",
      "2025-09-02 15:29:27.902 \n",
      "  \u001b[33m\u001b[1mWarning:\u001b[0m to view this Streamlit app on a browser, run it with the following\n",
      "  command:\n",
      "\n",
      "    streamlit run /Library/Frameworks/Python.framework/Versions/3.13/lib/python3.13/site-packages/ipykernel_launcher.py [ARGUMENTS]\n",
      "2025-09-02 15:29:27.902 Thread 'MainThread': missing ScriptRunContext! This warning can be ignored when running in bare mode.\n",
      "2025-09-02 15:29:27.902 Thread 'MainThread': missing ScriptRunContext! This warning can be ignored when running in bare mode.\n"
     ]
    },
    {
     "data": {
      "text/plain": [
       "DeltaGenerator()"
      ]
     },
     "execution_count": 2,
     "metadata": {},
     "output_type": "execute_result"
    }
   ],
   "source": [
    "st.title(\"Repeat Customer & Discount Analysis\")"
   ]
  },
  {
   "cell_type": "code",
   "execution_count": null,
   "id": "639a554e",
   "metadata": {},
   "outputs": [
    {
     "name": "stderr",
     "output_type": "stream",
     "text": [
      "2025-09-02 15:31:46.012 Thread 'MainThread': missing ScriptRunContext! This warning can be ignored when running in bare mode.\n",
      "2025-09-02 15:31:46.019 Thread 'MainThread': missing ScriptRunContext! This warning can be ignored when running in bare mode.\n",
      "2025-09-02 15:31:46.021 Thread 'MainThread': missing ScriptRunContext! This warning can be ignored when running in bare mode.\n",
      "2025-09-02 15:31:46.025 Thread 'MainThread': missing ScriptRunContext! This warning can be ignored when running in bare mode.\n",
      "2025-09-02 15:31:46.026 Thread 'MainThread': missing ScriptRunContext! This warning can be ignored when running in bare mode.\n",
      "2025-09-02 15:31:46.027 Thread 'MainThread': missing ScriptRunContext! This warning can be ignored when running in bare mode.\n"
     ]
    }
   ],
   "source": [
    "uploaded_file = st.file_uploader(\"Upload your CSV dataset\", type=\"csv\")\n",
    "if uploaded_file is not None:\n",
    "    df = pd.read_csv(uploaded_file)\n",
    "    st.success(\"Dataset loaded successfully!\")\n",
    "    st.write(\"Preview of dataset:\", df.head())\n"
   ]
  },
  {
   "cell_type": "code",
   "execution_count": 9,
   "id": "1193410d",
   "metadata": {},
   "outputs": [],
   "source": [
    "df = pd.read_csv(\"/Users/tanuridinethra/Downloads/Walmart_customer_final_10000.csv\")\n",
    "repeat_df = df[df['Repeat_Customer'] == 'Yes']"
   ]
  },
  {
   "cell_type": "code",
   "execution_count": 11,
   "id": "b1b889f6",
   "metadata": {},
   "outputs": [
    {
     "name": "stderr",
     "output_type": "stream",
     "text": [
      "2025-09-02 15:34:32.510 Thread 'MainThread': missing ScriptRunContext! This warning can be ignored when running in bare mode.\n",
      "2025-09-02 15:34:32.510 Thread 'MainThread': missing ScriptRunContext! This warning can be ignored when running in bare mode.\n",
      "2025-09-02 15:34:32.511 Thread 'MainThread': missing ScriptRunContext! This warning can be ignored when running in bare mode.\n",
      "2025-09-02 15:34:32.535 Thread 'MainThread': missing ScriptRunContext! This warning can be ignored when running in bare mode.\n",
      "2025-09-02 15:34:32.536 Thread 'MainThread': missing ScriptRunContext! This warning can be ignored when running in bare mode.\n",
      "2025-09-02 15:34:32.536 Thread 'MainThread': missing ScriptRunContext! This warning can be ignored when running in bare mode.\n"
     ]
    },
    {
     "data": {
      "text/plain": [
       "DeltaGenerator()"
      ]
     },
     "execution_count": 11,
     "metadata": {},
     "output_type": "execute_result"
    }
   ],
   "source": [
    "repeat_analysis = (\n",
    "    repeat_df.groupby(['Customer_ID', 'Brand', 'Category'])\n",
    "    .size()\n",
    "    .reset_index(name='Purchase_Count')\n",
    "    .sort_values(['Customer_ID', 'Purchase_Count'], ascending=[True, False])\n",
    ")\n",
    "\n",
    "st.subheader(\"Repeat purchases by Brand & Category\")\n",
    "st.dataframe(repeat_analysis.head(10))\n"
   ]
  },
  {
   "cell_type": "code",
   "execution_count": null,
   "id": "6f1c8565",
   "metadata": {},
   "outputs": [],
   "source": []
  },
  {
   "cell_type": "code",
   "execution_count": 15,
   "id": "74b8ea83",
   "metadata": {},
   "outputs": [
    {
     "name": "stderr",
     "output_type": "stream",
     "text": [
      "2025-09-02 15:41:10.568 Thread 'MainThread': missing ScriptRunContext! This warning can be ignored when running in bare mode.\n",
      "2025-09-02 15:41:10.570 Thread 'MainThread': missing ScriptRunContext! This warning can be ignored when running in bare mode.\n",
      "2025-09-02 15:41:10.570 Thread 'MainThread': missing ScriptRunContext! This warning can be ignored when running in bare mode.\n",
      "2025-09-02 15:41:10.589 Thread 'MainThread': missing ScriptRunContext! This warning can be ignored when running in bare mode.\n",
      "2025-09-02 15:41:10.590 Thread 'MainThread': missing ScriptRunContext! This warning can be ignored when running in bare mode.\n",
      "2025-09-02 15:41:10.590 Thread 'MainThread': missing ScriptRunContext! This warning can be ignored when running in bare mode.\n",
      "2025-09-02 15:41:10.658 Thread 'MainThread': missing ScriptRunContext! This warning can be ignored when running in bare mode.\n",
      "2025-09-02 15:41:10.658 Thread 'MainThread': missing ScriptRunContext! This warning can be ignored when running in bare mode.\n",
      "2025-09-02 15:41:10.659 Thread 'MainThread': missing ScriptRunContext! This warning can be ignored when running in bare mode.\n",
      "2025-09-02 15:41:10.660 Thread 'MainThread': missing ScriptRunContext! This warning can be ignored when running in bare mode.\n",
      "2025-09-02 15:41:10.660 Thread 'MainThread': missing ScriptRunContext! This warning can be ignored when running in bare mode.\n",
      "2025-09-02 15:41:10.660 Thread 'MainThread': missing ScriptRunContext! This warning can be ignored when running in bare mode.\n"
     ]
    },
    {
     "data": {
      "text/plain": [
       "DeltaGenerator()"
      ]
     },
     "execution_count": 15,
     "metadata": {},
     "output_type": "execute_result"
    }
   ],
   "source": [
    "#Step 5: Analyze discount effect\n",
    " # Step 5: Analyze discount effect\n",
    "discount_analysis = (\n",
    "    repeat_df.groupby(['Customer_ID', 'Brand', 'Category', 'Discount_Applied'])\n",
    "    .size()\n",
    "    .reset_index(name='Purchase_Count')\n",
    ")\n",
    "\n",
    "st.subheader(\"Repeat purchases with Discount info\")\n",
    "st.dataframe(discount_analysis.head(10))\n",
    "\n",
    "\n",
    "    # Step 5b: Prepare data for prediction (dummy function)\n",
    "api_input = discount_analysis.groupby(['Customer_ID', 'Brand', 'Category']).agg({\n",
    "    'Purchase_Count': 'sum',\n",
    "    'Discount_Applied': lambda x: list(x)\n",
    "}).reset_index()\n",
    "\n",
    "# Dummy prediction function\n",
    "def predict_repeat(customer_id, brand, category, purchase_count, discount_history):\n",
    "    if \"Yes\" in discount_history:\n",
    "        return True\n",
    "    elif purchase_count > 2:\n",
    "        return True\n",
    "    else:\n",
    "        return False\n",
    "\n",
    "# Apply dummy prediction\n",
    "predictions = []\n",
    "for _, row in api_input.iterrows():\n",
    "    predicted_repeat = predict_repeat(\n",
    "        row['Customer_ID'],\n",
    "        row['Brand'],\n",
    "        row['Category'],\n",
    "        row['Purchase_Count'],\n",
    "        row['Discount_Applied']\n",
    "    )\n",
    "    predictions.append({\n",
    "        \"Customer_ID\": row['Customer_ID'],\n",
    "        \"Brand\": row['Brand'],\n",
    "        \"Category\": row['Category'],\n",
    "        \"Predicted_Repeat\": predicted_repeat\n",
    "    })\n",
    "\n",
    "pred_df = pd.DataFrame(predictions)\n",
    "\n",
    "st.subheader(\"Predicted repeat purchases\")\n",
    "st.dataframe(pred_df.head(10))\n"
   ]
  },
  {
   "cell_type": "code",
   "execution_count": 17,
   "id": "6c269e5f",
   "metadata": {},
   "outputs": [],
   "source": [
    "# Step 6: Dummy local prediction function\n",
    "def predict_repeat(customer_id, brand, category, purchase_count, discount_history):\n",
    "    if \"Yes\" in discount_history:\n",
    "        return True\n",
    "    elif purchase_count > 2:\n",
    "        return True\n",
    "    else:\n",
    "        return False\n",
    "\n"
   ]
  },
  {
   "cell_type": "code",
   "execution_count": 19,
   "id": "e4fa53cf",
   "metadata": {},
   "outputs": [
    {
     "name": "stderr",
     "output_type": "stream",
     "text": [
      "2025-09-02 15:43:19.644 Thread 'MainThread': missing ScriptRunContext! This warning can be ignored when running in bare mode.\n",
      "2025-09-02 15:43:19.645 Thread 'MainThread': missing ScriptRunContext! This warning can be ignored when running in bare mode.\n",
      "2025-09-02 15:43:19.646 Thread 'MainThread': missing ScriptRunContext! This warning can be ignored when running in bare mode.\n",
      "2025-09-02 15:43:19.648 Thread 'MainThread': missing ScriptRunContext! This warning can be ignored when running in bare mode.\n",
      "2025-09-02 15:43:19.648 Thread 'MainThread': missing ScriptRunContext! This warning can be ignored when running in bare mode.\n",
      "2025-09-02 15:43:19.649 Thread 'MainThread': missing ScriptRunContext! This warning can be ignored when running in bare mode.\n"
     ]
    },
    {
     "data": {
      "text/plain": [
       "DeltaGenerator()"
      ]
     },
     "execution_count": 19,
     "metadata": {},
     "output_type": "execute_result"
    }
   ],
   "source": [
    "# Step 6b: Apply dummy prediction\n",
    "predictions = []\n",
    "\n",
    "for _, row in api_input.iterrows():\n",
    "    predicted_repeat = predict_repeat(\n",
    "        row['Customer_ID'],\n",
    "        row['Brand'],\n",
    "        row['Category'],\n",
    "        row['Purchase_Count'],\n",
    "        row['Discount_Applied']\n",
    "    )\n",
    "    predictions.append({\n",
    "        \"Customer_ID\": row['Customer_ID'],\n",
    "        \"Brand\": row['Brand'],\n",
    "        \"Category\": row['Category'],\n",
    "        \"Predicted_Repeat\": predicted_repeat\n",
    "    })\n",
    "\n",
    "pred_df = pd.DataFrame(predictions)\n",
    "\n",
    "st.subheader(\"Predicted repeat purchases\")\n",
    "st.dataframe(pred_df.head(10))\n",
    "\n"
   ]
  },
  {
   "cell_type": "code",
   "execution_count": 21,
   "id": "51bebfab",
   "metadata": {},
   "outputs": [
    {
     "name": "stderr",
     "output_type": "stream",
     "text": [
      "2025-09-02 15:43:56.163 Thread 'MainThread': missing ScriptRunContext! This warning can be ignored when running in bare mode.\n",
      "2025-09-02 15:43:56.165 Thread 'MainThread': missing ScriptRunContext! This warning can be ignored when running in bare mode.\n",
      "2025-09-02 15:43:56.166 Thread 'MainThread': missing ScriptRunContext! This warning can be ignored when running in bare mode.\n",
      "2025-09-02 15:43:56.177 Thread 'MainThread': missing ScriptRunContext! This warning can be ignored when running in bare mode.\n",
      "2025-09-02 15:43:56.177 Thread 'MainThread': missing ScriptRunContext! This warning can be ignored when running in bare mode.\n",
      "2025-09-02 15:43:56.178 Thread 'MainThread': missing ScriptRunContext! This warning can be ignored when running in bare mode.\n"
     ]
    },
    {
     "data": {
      "text/plain": [
       "DeltaGenerator()"
      ]
     },
     "execution_count": 21,
     "metadata": {},
     "output_type": "execute_result"
    }
   ],
   "source": [
    "# Step 7: Display final predictions\n",
    "st.subheader(\"Predicted Repeat Purchases\")\n",
    "st.dataframe(pred_df.head(10))\n"
   ]
  }
 ],
 "metadata": {
  "kernelspec": {
   "display_name": "Python 3",
   "language": "python",
   "name": "python3"
  },
  "language_info": {
   "codemirror_mode": {
    "name": "ipython",
    "version": 3
   },
   "file_extension": ".py",
   "mimetype": "text/x-python",
   "name": "python",
   "nbconvert_exporter": "python",
   "pygments_lexer": "ipython3",
   "version": "3.13.5"
  }
 },
 "nbformat": 4,
 "nbformat_minor": 5
}
